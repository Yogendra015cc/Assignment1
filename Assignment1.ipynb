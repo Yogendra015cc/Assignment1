{
 "cells": [
  {
   "cell_type": "code",
   "execution_count": 10,
   "id": "b5cb0c25-0e87-4e55-b9e1-d98754e6c8db",
   "metadata": {},
   "outputs": [],
   "source": [
    "# Q1. Create one variable containing following type of data:\n",
    "\n",
    "#(i)\tstring\n",
    "\n",
    "#(ii)\tlist\n",
    "\n",
    "#(iii)\tfloat\n",
    "\n",
    "#(iv)\ttuple"
   ]
  },
  {
   "cell_type": "code",
   "execution_count": 13,
   "id": "e6f759f6-6a6f-4d7f-b9ed-2f210b68f163",
   "metadata": {},
   "outputs": [],
   "source": [
    "#Ans.\n",
    "#1.String \n",
    "a = \"Yogi\"\n",
    "\n",
    "#2.list\n",
    "b = [1,2,3,4,'yogi','harsh',12.44,]\n",
    "\n",
    "#3.float\n",
    "c = 12.44\n",
    "\n",
    "#4.tuple\n",
    "#don't know the answer sorry"
   ]
  },
  {
   "cell_type": "code",
   "execution_count": 14,
   "id": "fa4cbbda-ce23-4486-9f76-ce552dec7c30",
   "metadata": {},
   "outputs": [],
   "source": [
    "#Q2. Given are some following variables containing data:\n",
    "#(i)\tvar1 = ‘ ‘\n",
    "\n",
    "#(ii)\tvar2 = ‘[ DS , ML , Python]’\n",
    "\n",
    "#(iii)\tvar3 = [ ‘DS’ , ’ML’ , ‘Python’ ]\n",
    "\n",
    "#(iv)\tvar4 = 1"
   ]
  },
  {
   "cell_type": "code",
   "execution_count": 1,
   "id": "5750ad6c-87ea-4e48-b1b1-f64238937c9c",
   "metadata": {},
   "outputs": [],
   "source": [
    "#Ans.\n",
    "#1.var1 = ‘ ‘\n"
   ]
  },
  {
   "cell_type": "code",
   "execution_count": 2,
   "id": "ff3fa30b-1108-4733-a470-391c3d956dd8",
   "metadata": {},
   "outputs": [],
   "source": [
    "#Q3. Explain the use of the following operators using an example:\n",
    "\n",
    "#(i)\t/\n",
    "\n",
    "#(ii)\t% \n",
    "\n",
    "#(iii)\t//\n",
    "\n",
    "#(iv)\t**"
   ]
  },
  {
   "cell_type": "code",
   "execution_count": 4,
   "id": "fec15d83-57c2-4817-a42c-9fd2ebd222de",
   "metadata": {},
   "outputs": [],
   "source": [
    "#Ans.\n",
    "#1. /\n"
   ]
  },
  {
   "cell_type": "code",
   "execution_count": 6,
   "id": "316b70de-c921-4bd2-9136-9c1edff3ce98",
   "metadata": {},
   "outputs": [],
   "source": [
    "#2. %\n",
    "# This is modulus operator it is used to get remainder of a devision.For example:\n",
    "\n",
    "#1%4 = 1 , 9%4 = 1 etc.\n",
    "\n",
    "#Proof"
   ]
  },
  {
   "cell_type": "code",
   "execution_count": 7,
   "id": "31c86971-803f-4386-9f55-821942390276",
   "metadata": {},
   "outputs": [
    {
     "data": {
      "text/plain": [
       "1"
      ]
     },
     "execution_count": 7,
     "metadata": {},
     "output_type": "execute_result"
    }
   ],
   "source": [
    "1%4"
   ]
  },
  {
   "cell_type": "code",
   "execution_count": 9,
   "id": "20b4142f-69d3-4b7f-9178-667323cdddf1",
   "metadata": {},
   "outputs": [
    {
     "data": {
      "text/plain": [
       "1"
      ]
     },
     "execution_count": 9,
     "metadata": {},
     "output_type": "execute_result"
    }
   ],
   "source": [
    "9%4"
   ]
  },
  {
   "cell_type": "code",
   "execution_count": 13,
   "id": "a0c15cae-7fbf-417d-8414-807086588034",
   "metadata": {},
   "outputs": [],
   "source": [
    "#3, //\n",
    "#dont know "
   ]
  },
  {
   "cell_type": "code",
   "execution_count": 14,
   "id": "15084407-1311-4943-ba97-5cba63f3c060",
   "metadata": {},
   "outputs": [],
   "source": [
    "#4. **\n",
    "#This is used as exponent. for example;\n",
    "#2**2=4 , 3**4=81\n",
    "#Proof"
   ]
  },
  {
   "cell_type": "code",
   "execution_count": 15,
   "id": "034647e0-5755-4974-a7c2-2965fe4ded0d",
   "metadata": {},
   "outputs": [
    {
     "data": {
      "text/plain": [
       "4"
      ]
     },
     "execution_count": 15,
     "metadata": {},
     "output_type": "execute_result"
    }
   ],
   "source": [
    "2**2"
   ]
  },
  {
   "cell_type": "code",
   "execution_count": 16,
   "id": "11e39302-d98b-4acd-89ed-5056c4c7f98f",
   "metadata": {},
   "outputs": [
    {
     "data": {
      "text/plain": [
       "81"
      ]
     },
     "execution_count": 16,
     "metadata": {},
     "output_type": "execute_result"
    }
   ],
   "source": [
    "3**4"
   ]
  },
  {
   "cell_type": "code",
   "execution_count": 8,
   "id": "c121fa47-768c-40d5-8436-464fb8fd5f24",
   "metadata": {},
   "outputs": [
    {
     "data": {
      "text/plain": [
       "list"
      ]
     },
     "execution_count": 8,
     "metadata": {},
     "output_type": "execute_result"
    }
   ],
   "source": [
    "#Q4. Create a list of length 10 of your choice containing multiple types of data. Using for loop print the element and its data type\n",
    "#Ans.\n",
    "Z = [1,2,3,3.56,\"Yogendra\",True,False,\"yogi\",\"harsh\",5+9j]\n",
    "type(A)"
   ]
  },
  {
   "cell_type": "code",
   "execution_count": 9,
   "id": "1e9ea242-d2ef-4129-8a6c-f2409b8c5127",
   "metadata": {},
   "outputs": [
    {
     "name": "stdout",
     "output_type": "stream",
     "text": [
      "1\n",
      "2\n",
      "3\n",
      "3.56\n",
      "Yogendra\n",
      "True\n",
      "False\n",
      "yogi\n",
      "harsh\n",
      "(5+9j)\n"
     ]
    }
   ],
   "source": [
    "for i in Z :\n",
    "    print(i)\n"
   ]
  },
  {
   "cell_type": "code",
   "execution_count": 10,
   "id": "265d98ec-51d4-4ffa-bc8d-48f967e50d11",
   "metadata": {},
   "outputs": [
    {
     "name": "stdout",
     "output_type": "stream",
     "text": [
      "<class 'int'>\n",
      "<class 'int'>\n",
      "<class 'int'>\n",
      "<class 'float'>\n",
      "<class 'str'>\n",
      "<class 'bool'>\n",
      "<class 'bool'>\n",
      "<class 'str'>\n",
      "<class 'str'>\n",
      "<class 'complex'>\n"
     ]
    }
   ],
   "source": [
    "for i in Z:\n",
    "    print(type(i))"
   ]
  },
  {
   "cell_type": "code",
   "execution_count": 21,
   "id": "87ee0d44-8137-47a8-a143-65e7c2d04b65",
   "metadata": {},
   "outputs": [],
   "source": [
    "#Q5. Using a while loop, verify if the number A is purely divisible by number B and if so then how many times it can be divisible.\n",
    "#Don't Know"
   ]
  },
  {
   "cell_type": "code",
   "execution_count": 22,
   "id": "389bbc17-bf82-48dd-ab78-72ea83898721",
   "metadata": {},
   "outputs": [],
   "source": [
    "#Q6. Create a list containing 25 int type data. Using for loop and if-else condition print if the element is divisible by 3 or not\n",
    "#Ans.Dont Know"
   ]
  },
  {
   "cell_type": "code",
   "execution_count": 2,
   "id": "7ca039c6-a1ac-4d6e-aa6a-1fdde59ce800",
   "metadata": {},
   "outputs": [],
   "source": [
    "#Q7. What do you understand about mutable and immutable data types? Give examples for both showing this property\n",
    "#Ans.This concept is based on replacement.Data types which are replacable are called mutable datatypes and those which are not replacable are called immutable datatypes.\n",
    "#Strings are immutable because we can't reassign data but list are mutable beacause we can reassign data in list.\n",
    "\n",
    "#For. Example\n",
    "#1. Mutable\n",
    "\n",
    "G = [ 1,2,3,5,1.33,\"harsh\",True]"
   ]
  },
  {
   "cell_type": "code",
   "execution_count": 3,
   "id": "23e1560f-0f59-4159-9193-a8d2ff9f3e50",
   "metadata": {},
   "outputs": [
    {
     "data": {
      "text/plain": [
       "list"
      ]
     },
     "execution_count": 3,
     "metadata": {},
     "output_type": "execute_result"
    }
   ],
   "source": [
    "type(G)"
   ]
  },
  {
   "cell_type": "code",
   "execution_count": 5,
   "id": "87935052-8bd9-41c1-8a89-c24128cbe72a",
   "metadata": {},
   "outputs": [
    {
     "data": {
      "text/plain": [
       "2"
      ]
     },
     "execution_count": 5,
     "metadata": {},
     "output_type": "execute_result"
    }
   ],
   "source": [
    "G[1]"
   ]
  },
  {
   "cell_type": "code",
   "execution_count": 7,
   "id": "ccff188a-9642-4fec-af2a-fe26085f295b",
   "metadata": {},
   "outputs": [
    {
     "data": {
      "text/plain": [
       "1.33"
      ]
     },
     "execution_count": 7,
     "metadata": {},
     "output_type": "execute_result"
    }
   ],
   "source": [
    "G[4]"
   ]
  },
  {
   "cell_type": "code",
   "execution_count": 8,
   "id": "04ea5d79-b5a3-4884-b884-a9f1b92e9689",
   "metadata": {},
   "outputs": [],
   "source": [
    "G[4] = 2.12 #reassigning the data"
   ]
  },
  {
   "cell_type": "code",
   "execution_count": null,
   "id": "5dd03d5b-7719-438d-8022-e31aabfcbaf0",
   "metadata": {},
   "outputs": [
    {
     "data": {
      "text/plain": [
       "[1, 2, 3, 5, 2.12, 'harsh', True]"
      ]
     },
     "execution_count": 9,
     "metadata": {},
     "output_type": "execute_result"
    }
   ],
   "source": [
    "G"
   ]
  },
  {
   "cell_type": "code",
   "execution_count": 10,
   "id": "e629cd2e-f89b-442b-856c-2f429f3f5937",
   "metadata": {},
   "outputs": [],
   "source": [
    "#2.Immutable \n",
    "\n",
    "H = \"Yogendra\""
   ]
  },
  {
   "cell_type": "code",
   "execution_count": 11,
   "id": "4eac56c1-e22e-4738-8dd9-a2b17a31e65b",
   "metadata": {},
   "outputs": [
    {
     "data": {
      "text/plain": [
       "str"
      ]
     },
     "execution_count": 11,
     "metadata": {},
     "output_type": "execute_result"
    }
   ],
   "source": [
    "type(\"Yogendra\")"
   ]
  },
  {
   "cell_type": "code",
   "execution_count": 13,
   "id": "4e77fa4a-1350-4c5d-9c70-fd6daca11a70",
   "metadata": {},
   "outputs": [
    {
     "data": {
      "text/plain": [
       "'Y'"
      ]
     },
     "execution_count": 13,
     "metadata": {},
     "output_type": "execute_result"
    }
   ],
   "source": [
    "H[0]"
   ]
  },
  {
   "cell_type": "code",
   "execution_count": 14,
   "id": "6912524d-a7c1-49a4-8c92-c8a72855d1bb",
   "metadata": {},
   "outputs": [
    {
     "data": {
      "text/plain": [
       "'d'"
      ]
     },
     "execution_count": 14,
     "metadata": {},
     "output_type": "execute_result"
    }
   ],
   "source": [
    "H[5]"
   ]
  },
  {
   "cell_type": "code",
   "execution_count": 15,
   "id": "f56d7f1e-7945-404d-9786-95383f30b143",
   "metadata": {},
   "outputs": [
    {
     "ename": "NameError",
     "evalue": "name 'v' is not defined",
     "output_type": "error",
     "traceback": [
      "\u001b[0;31m---------------------------------------------------------------------------\u001b[0m",
      "\u001b[0;31mNameError\u001b[0m                                 Traceback (most recent call last)",
      "Cell \u001b[0;32mIn[15], line 1\u001b[0m\n\u001b[0;32m----> 1\u001b[0m H[\u001b[38;5;241m5\u001b[39m] \u001b[38;5;241m=\u001b[39m \u001b[43mv\u001b[49m\n",
      "\u001b[0;31mNameError\u001b[0m: name 'v' is not defined"
     ]
    }
   ],
   "source": [
    "H[5] = v #reassigning data"
   ]
  },
  {
   "cell_type": "code",
   "execution_count": null,
   "id": "507a55a1-e49b-4cd9-972a-429ed853de45",
   "metadata": {},
   "outputs": [],
   "source": [
    "# It's showing error because string is immutable"
   ]
  }
 ],
 "metadata": {
  "kernelspec": {
   "display_name": "Python 3 (ipykernel)",
   "language": "python",
   "name": "python3"
  },
  "language_info": {
   "codemirror_mode": {
    "name": "ipython",
    "version": 3
   },
   "file_extension": ".py",
   "mimetype": "text/x-python",
   "name": "python",
   "nbconvert_exporter": "python",
   "pygments_lexer": "ipython3",
   "version": "3.10.8"
  }
 },
 "nbformat": 4,
 "nbformat_minor": 5
}
